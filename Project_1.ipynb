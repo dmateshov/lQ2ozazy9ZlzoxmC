{
 "cells": [
  {
   "cell_type": "markdown",
   "id": "3d0c4130-805e-45d7-bcf0-6910d2b849c3",
   "metadata": {},
   "source": [
    "# Customers satisfaction prediction\n",
    "\n",
    "We are one of the fastest growing startups in the logistics and delivery domain. We work with several partners and make on-demand delivery to our customers. We thrive on making our customers happy. As a growing startup, with a global expansion strategy we know that we need to make our customers happy and the only way to do that is to measure how happy each customer is. If we can predict what makes our customers happy or unhappy, we can then take necessary actions.\n",
    "\n",
    "Getting feedback from customers is not easy either, but we do our best to get constant feedback from  customers. This is a crucial function to improve our operations across all levels. We recently did a survey to a select customer cohort. The data description is presented:\n",
    "\n",
    "Data Description:   \n",
    "Y = target attribute (Y) with values indicating 0 (unhappy) and 1 (happy) customers  \n",
    "X1 = my order was delivered on time  \n",
    "X2 = contents of my order was as I expected  \n",
    "X3 = I ordered everything I wanted to order  \n",
    "X4 = I paid a good price for my order  \n",
    "X5 = I am satisfied with my courier  \n",
    "X6 = the app makes ordering easy for me  \n",
    "\n",
    "Attributes X1 to X6 indicate the responses for each question and have values from 1 to 5 where the smaller number indicates less and the higher number indicates more towards the answer.\n",
    "\n",
    "This kind of predictions are useful to make predictions on customers satisfaction and to know what makes customers happy. It is essential to any business to know areas for improvement. This task is great way to identify these areas and grow the startup by making existing customers happy and acquiring new customers. "
   ]
  },
  {
   "cell_type": "markdown",
   "id": "2085ef34-f495-492a-bf0b-7d87ab4badff",
   "metadata": {},
   "source": [
    "## Objectives\n",
    "\n",
    "- Build a classification model that best predicts happiness of customers from other responses. \n",
    "- Find features that are most important in classifying. This way we can find the areas that are most important in customer satisfaction and emphasize improvement efforts on them."
   ]
  },
  {
   "cell_type": "markdown",
   "id": "b9a4a442-b1af-4f3c-9e02-1614ffed61b0",
   "metadata": {},
   "source": [
    "### Importing libraries"
   ]
  },
  {
   "cell_type": "code",
   "execution_count": 1,
   "id": "25f2a641-99f2-4f5e-b707-7b57ec5540e8",
   "metadata": {},
   "outputs": [
    {
     "name": "stderr",
     "output_type": "stream",
     "text": [
      "/Library/Frameworks/Python.framework/Versions/3.7/lib/python3.7/site-packages/sklearn/utils/deprecation.py:143: FutureWarning: The sklearn.utils.testing module is  deprecated in version 0.22 and will be removed in version 0.24. The corresponding classes / functions should instead be imported from sklearn.utils. Anything that cannot be imported from sklearn.utils is now part of the private API.\n",
      "  warnings.warn(message, FutureWarning)\n"
     ]
    }
   ],
   "source": [
    "# Import packages\n",
    "import pandas as pd\n",
    "import numpy as np\n",
    "\n",
    "import matplotlib.pyplot as plt\n",
    "import seaborn as sns\n",
    "\n",
    "# Import lazypredict package\n",
    "import lazypredict\n",
    "from lazypredict.Supervised import LazyClassifier\n",
    "\n",
    "# Import sklearn data split and hyperparameters tuning packages\n",
    "from sklearn.model_selection import train_test_split\n",
    "from sklearn.model_selection import RandomizedSearchCV\n",
    "from sklearn.model_selection import GridSearchCV\n",
    "\n",
    "# Import metrics packages of sklearn\n",
    "from sklearn.metrics import accuracy_score\n",
    "from sklearn.metrics import classification_report\n",
    "from sklearn.metrics import roc_curve\n",
    "\n",
    "# Import classifier models\n",
    "from sklearn.tree import ExtraTreeClassifier\n",
    "from sklearn.tree import DecisionTreeClassifier\n",
    "from sklearn.ensemble import BaggingClassifier\n",
    "from sklearn.ensemble import RandomForestClassifier\n"
   ]
  },
  {
   "cell_type": "markdown",
   "id": "aa1ab882-68f0-4023-9b0d-b9a8037d2c2b",
   "metadata": {},
   "source": [
    "### Loading the data"
   ]
  },
  {
   "cell_type": "code",
   "execution_count": 2,
   "id": "5e7b5c52-cb10-4988-9b83-edbe75470a2e",
   "metadata": {},
   "outputs": [
    {
     "data": {
      "text/html": [
       "<div>\n",
       "<style scoped>\n",
       "    .dataframe tbody tr th:only-of-type {\n",
       "        vertical-align: middle;\n",
       "    }\n",
       "\n",
       "    .dataframe tbody tr th {\n",
       "        vertical-align: top;\n",
       "    }\n",
       "\n",
       "    .dataframe thead th {\n",
       "        text-align: right;\n",
       "    }\n",
       "</style>\n",
       "<table border=\"1\" class=\"dataframe\">\n",
       "  <thead>\n",
       "    <tr style=\"text-align: right;\">\n",
       "      <th></th>\n",
       "      <th>Y</th>\n",
       "      <th>X1</th>\n",
       "      <th>X2</th>\n",
       "      <th>X3</th>\n",
       "      <th>X4</th>\n",
       "      <th>X5</th>\n",
       "      <th>X6</th>\n",
       "    </tr>\n",
       "  </thead>\n",
       "  <tbody>\n",
       "    <tr>\n",
       "      <th>0</th>\n",
       "      <td>0</td>\n",
       "      <td>3</td>\n",
       "      <td>3</td>\n",
       "      <td>3</td>\n",
       "      <td>4</td>\n",
       "      <td>2</td>\n",
       "      <td>4</td>\n",
       "    </tr>\n",
       "    <tr>\n",
       "      <th>1</th>\n",
       "      <td>0</td>\n",
       "      <td>3</td>\n",
       "      <td>2</td>\n",
       "      <td>3</td>\n",
       "      <td>5</td>\n",
       "      <td>4</td>\n",
       "      <td>3</td>\n",
       "    </tr>\n",
       "    <tr>\n",
       "      <th>2</th>\n",
       "      <td>1</td>\n",
       "      <td>5</td>\n",
       "      <td>3</td>\n",
       "      <td>3</td>\n",
       "      <td>3</td>\n",
       "      <td>3</td>\n",
       "      <td>5</td>\n",
       "    </tr>\n",
       "    <tr>\n",
       "      <th>3</th>\n",
       "      <td>0</td>\n",
       "      <td>5</td>\n",
       "      <td>4</td>\n",
       "      <td>3</td>\n",
       "      <td>3</td>\n",
       "      <td>3</td>\n",
       "      <td>5</td>\n",
       "    </tr>\n",
       "    <tr>\n",
       "      <th>4</th>\n",
       "      <td>0</td>\n",
       "      <td>5</td>\n",
       "      <td>4</td>\n",
       "      <td>3</td>\n",
       "      <td>3</td>\n",
       "      <td>3</td>\n",
       "      <td>5</td>\n",
       "    </tr>\n",
       "  </tbody>\n",
       "</table>\n",
       "</div>"
      ],
      "text/plain": [
       "   Y  X1  X2  X3  X4  X5  X6\n",
       "0  0   3   3   3   4   2   4\n",
       "1  0   3   2   3   5   4   3\n",
       "2  1   5   3   3   3   3   5\n",
       "3  0   5   4   3   3   3   5\n",
       "4  0   5   4   3   3   3   5"
      ]
     },
     "execution_count": 2,
     "metadata": {},
     "output_type": "execute_result"
    }
   ],
   "source": [
    "# Load dataset\n",
    "df = pd.read_csv('datasets/ACME-HappinessSurvey2020.csv')\n",
    "\n",
    "# Inspect data\n",
    "df.head()"
   ]
  },
  {
   "cell_type": "markdown",
   "id": "b53e3529-8dda-4429-98c7-2852893ffeeb",
   "metadata": {},
   "source": [
    "### Exploring the data"
   ]
  },
  {
   "cell_type": "code",
   "execution_count": 3,
   "id": "511040fb-f04d-42a2-87a8-aa110afd170b",
   "metadata": {},
   "outputs": [
    {
     "name": "stdout",
     "output_type": "stream",
     "text": [
      "<class 'pandas.core.frame.DataFrame'>\n",
      "RangeIndex: 126 entries, 0 to 125\n",
      "Data columns (total 7 columns):\n",
      " #   Column  Non-Null Count  Dtype\n",
      "---  ------  --------------  -----\n",
      " 0   Y       126 non-null    int64\n",
      " 1   X1      126 non-null    int64\n",
      " 2   X2      126 non-null    int64\n",
      " 3   X3      126 non-null    int64\n",
      " 4   X4      126 non-null    int64\n",
      " 5   X5      126 non-null    int64\n",
      " 6   X6      126 non-null    int64\n",
      "dtypes: int64(7)\n",
      "memory usage: 7.0 KB\n"
     ]
    }
   ],
   "source": [
    "# Inspect data to check if there are any NA entries and make sure we have proper type of the data\n",
    "df.info()"
   ]
  },
  {
   "cell_type": "code",
   "execution_count": 4,
   "id": "4b4d1035-70b6-45d5-9f45-26ce88590537",
   "metadata": {},
   "outputs": [
    {
     "data": {
      "text/html": [
       "<div>\n",
       "<style scoped>\n",
       "    .dataframe tbody tr th:only-of-type {\n",
       "        vertical-align: middle;\n",
       "    }\n",
       "\n",
       "    .dataframe tbody tr th {\n",
       "        vertical-align: top;\n",
       "    }\n",
       "\n",
       "    .dataframe thead th {\n",
       "        text-align: right;\n",
       "    }\n",
       "</style>\n",
       "<table border=\"1\" class=\"dataframe\">\n",
       "  <thead>\n",
       "    <tr style=\"text-align: right;\">\n",
       "      <th></th>\n",
       "      <th>Y</th>\n",
       "      <th>X1</th>\n",
       "      <th>X2</th>\n",
       "      <th>X3</th>\n",
       "      <th>X4</th>\n",
       "      <th>X5</th>\n",
       "      <th>X6</th>\n",
       "    </tr>\n",
       "  </thead>\n",
       "  <tbody>\n",
       "    <tr>\n",
       "      <th>count</th>\n",
       "      <td>126.00</td>\n",
       "      <td>126.00</td>\n",
       "      <td>126.00</td>\n",
       "      <td>126.00</td>\n",
       "      <td>126.00</td>\n",
       "      <td>126.00</td>\n",
       "      <td>126.00</td>\n",
       "    </tr>\n",
       "    <tr>\n",
       "      <th>mean</th>\n",
       "      <td>0.55</td>\n",
       "      <td>4.33</td>\n",
       "      <td>2.53</td>\n",
       "      <td>3.31</td>\n",
       "      <td>3.75</td>\n",
       "      <td>3.65</td>\n",
       "      <td>4.25</td>\n",
       "    </tr>\n",
       "    <tr>\n",
       "      <th>std</th>\n",
       "      <td>0.50</td>\n",
       "      <td>0.80</td>\n",
       "      <td>1.11</td>\n",
       "      <td>1.02</td>\n",
       "      <td>0.88</td>\n",
       "      <td>1.15</td>\n",
       "      <td>0.81</td>\n",
       "    </tr>\n",
       "    <tr>\n",
       "      <th>min</th>\n",
       "      <td>0.00</td>\n",
       "      <td>1.00</td>\n",
       "      <td>1.00</td>\n",
       "      <td>1.00</td>\n",
       "      <td>1.00</td>\n",
       "      <td>1.00</td>\n",
       "      <td>1.00</td>\n",
       "    </tr>\n",
       "    <tr>\n",
       "      <th>25%</th>\n",
       "      <td>0.00</td>\n",
       "      <td>4.00</td>\n",
       "      <td>2.00</td>\n",
       "      <td>3.00</td>\n",
       "      <td>3.00</td>\n",
       "      <td>3.00</td>\n",
       "      <td>4.00</td>\n",
       "    </tr>\n",
       "    <tr>\n",
       "      <th>50%</th>\n",
       "      <td>1.00</td>\n",
       "      <td>5.00</td>\n",
       "      <td>3.00</td>\n",
       "      <td>3.00</td>\n",
       "      <td>4.00</td>\n",
       "      <td>4.00</td>\n",
       "      <td>4.00</td>\n",
       "    </tr>\n",
       "    <tr>\n",
       "      <th>75%</th>\n",
       "      <td>1.00</td>\n",
       "      <td>5.00</td>\n",
       "      <td>3.00</td>\n",
       "      <td>4.00</td>\n",
       "      <td>4.00</td>\n",
       "      <td>4.00</td>\n",
       "      <td>5.00</td>\n",
       "    </tr>\n",
       "    <tr>\n",
       "      <th>max</th>\n",
       "      <td>1.00</td>\n",
       "      <td>5.00</td>\n",
       "      <td>5.00</td>\n",
       "      <td>5.00</td>\n",
       "      <td>5.00</td>\n",
       "      <td>5.00</td>\n",
       "      <td>5.00</td>\n",
       "    </tr>\n",
       "  </tbody>\n",
       "</table>\n",
       "</div>"
      ],
      "text/plain": [
       "           Y     X1     X2     X3     X4     X5     X6\n",
       "count 126.00 126.00 126.00 126.00 126.00 126.00 126.00\n",
       "mean    0.55   4.33   2.53   3.31   3.75   3.65   4.25\n",
       "std     0.50   0.80   1.11   1.02   0.88   1.15   0.81\n",
       "min     0.00   1.00   1.00   1.00   1.00   1.00   1.00\n",
       "25%     0.00   4.00   2.00   3.00   3.00   3.00   4.00\n",
       "50%     1.00   5.00   3.00   3.00   4.00   4.00   4.00\n",
       "75%     1.00   5.00   3.00   4.00   4.00   4.00   5.00\n",
       "max     1.00   5.00   5.00   5.00   5.00   5.00   5.00"
      ]
     },
     "execution_count": 4,
     "metadata": {},
     "output_type": "execute_result"
    }
   ],
   "source": [
    "# Print summary of statistics\n",
    "df.describe()"
   ]
  },
  {
   "cell_type": "markdown",
   "id": "5ac49b22-5fe8-4c9a-9f96-f4ea549f13a3",
   "metadata": {},
   "source": [
    "From summary of statistics, it is clear that customers are happy in 55% of cases (Y mean is 0.55). Also, all responses are in average above 3 except for X2 - \"contents of order is as expected\". This parameter does not directly depend on us, however it can effect our customer's satisfaction. So, one of the purposes of the project is to identify how important is this parameter in customer happiness.  \n",
    "Another parameter that has median of 3.0 is X3 - \"I ordered everything I wanted to order\". As with X2 this parameter does not directly depend on us. However it can bve crucial for customer satisfaction.\n",
    "\n",
    "Now I build count plots, to explore distribution of data in each parameter. It can show us if there is any skewing of data to one side. Or if there are any outliers that are out of range."
   ]
  },
  {
   "cell_type": "code",
   "execution_count": 5,
   "id": "facdca5a-695e-49c9-a3ad-21b86bede370",
   "metadata": {},
   "outputs": [
    {
     "data": {
      "image/png": "[encoded data removed]",
      "text/plain": [
       "<Figure size 1080x720 with 8 Axes>"
      ]
     },
     "metadata": {
      "needs_background": "light"
     },
     "output_type": "display_data"
    }
   ],
   "source": [
    "# Build count plots of data to see distribution of it\n",
    "fig, axs = plt.subplots(nrows = 2, ncols = 4, sharey=True, figsize = (15,10))\n",
    "\n",
    "for col, ax in zip(df.columns, axs.ravel()):\n",
    "    sns.countplot(x= col, data = df,ax=ax)"
   ]
  },
  {
   "cell_type": "markdown",
   "id": "0b532da2-a955-4dbd-817d-5983dd6f9190",
   "metadata": {},
   "source": [
    "From countplots on our parameters I noticed that customers are satisfied with delivery timing of parcels, as X1 parameter has median value of 5. However the satisfaction with courier is lower, which can be seen from parameter X5. It can be due to the pricing of service, which consumers are not always happy with (X4). Customers also like the app that makes ordering easy as well. It can be seen from parameter X6.  \n",
    "When it comes to satisfaction with order, the grades are lower. With X2 parameter being skewed to the left, consumers are not happy with content of the order, and tend to give lower marks. And on question if they ordered everything they wanted, the grade is average."
   ]
  },
  {
   "cell_type": "code",
   "execution_count": 6,
   "id": "5c2f3733-65eb-4cb2-98fb-dd8846166755",
   "metadata": {},
   "outputs": [
    {
     "data": {
      "text/plain": [
       "<AxesSubplot:>"
      ]
     },
     "execution_count": 6,
     "metadata": {},
     "output_type": "execute_result"
    },
    {
     "data": {
      "image/png": "[encoded data removed]",
      "text/plain": [
       "<Figure size 432x288 with 2 Axes>"
      ]
     },
     "metadata": {
      "needs_background": "light"
     },
     "output_type": "display_data"
    }
   ],
   "source": [
    "# Build a heatmap of correlation of values in dataset\n",
    "sns.heatmap(df.corr(), cmap = 'coolwarm', annot = True, vmin = -1, vmax = 1)"
   ]
  },
  {
   "cell_type": "markdown",
   "id": "39dc8f31-fa2b-4e57-8ce5-4137d1696481",
   "metadata": {},
   "source": [
    "\n",
    "\n",
    "Heatmap indicates that there is no too strong correlation between any two freatures. \n",
    "Data is clean, and can be used right away.\n"
   ]
  },
  {
   "cell_type": "markdown",
   "id": "5bd4d2bf-3f73-4c75-97c6-b84a7e93d5a1",
   "metadata": {},
   "source": [
    "## Splitting the data\n",
    "\n",
    "Next step is to split the data into train set and test set to prepare data for two different phases of machine learning modelling."
   ]
  },
  {
   "cell_type": "code",
   "execution_count": 7,
   "id": "be9e773f-c54f-4fa4-a705-d5563de89fe3",
   "metadata": {},
   "outputs": [
    {
     "name": "stdout",
     "output_type": "stream",
     "text": [
      "Train set has 100 entries\n",
      "Test set has 26 entries\n"
     ]
    }
   ],
   "source": [
    "# Assign columns to according datasets\n",
    "X = df.drop('Y', axis = 1)\n",
    "y = df[['Y']]\n",
    "\n",
    "# Chose test size to be 20% of data\n",
    "X_train, X_test, y_train, y_test = train_test_split(X, y, test_size = 0.2, random_state = 1126)\n",
    "print(f'Train set has {X_train.shape[0]} entries')\n",
    "print(f'Test set has {X_test.shape[0]} entries')"
   ]
  },
  {
   "cell_type": "markdown",
   "id": "68788119-3c70-49b9-bb7a-26bee647550a",
   "metadata": {},
   "source": [
    "\n",
    "\n",
    "## Exploring default models performance using lazypredict\n",
    "First I used **lazypredict** to run many different classification algorithms to find ones that are best for this case. Then I  run them separately to confirm results from **lazypredict**. Found in [here](https://towardsdatascience.com/how-to-run-30-machine-learning-models-with-2-lines-of-code-d0f94a537e52)."
   ]
  },
  {
   "cell_type": "code",
   "execution_count": 8,
   "id": "46470c6f-4ade-4cf0-8ff4-086fc2b49902",
   "metadata": {},
   "outputs": [
    {
     "name": "stderr",
     "output_type": "stream",
     "text": [
      "100%|███████████████████████████████████████| 29/29 [00:01<00:00, 22.69it/s]"
     ]
    },
    {
     "name": "stdout",
     "output_type": "stream",
     "text": [
      "                               Accuracy  Balanced Accuracy  ROC AUC  F1 Score  \\\n",
      "Model                                                                           \n",
      "LabelPropagation                   0.69               0.74     0.74      0.70   \n",
      "LabelSpreading                     0.69               0.74     0.74      0.70   \n",
      "ExtraTreesClassifier               0.73               0.74     0.74      0.74   \n",
      "RandomForestClassifier             0.73               0.74     0.74      0.74   \n",
      "BaggingClassifier                  0.69               0.71     0.71      0.70   \n",
      "XGBClassifier                      0.65               0.68     0.68      0.67   \n",
      "DummyClassifier                    0.69               0.67     0.67      0.70   \n",
      "NuSVC                              0.62               0.65     0.65      0.63   \n",
      "LGBMClassifier                     0.58               0.62     0.62      0.59   \n",
      "SVC                                0.58               0.62     0.62      0.59   \n",
      "ExtraTreeClassifier                0.62               0.62     0.62      0.63   \n",
      "SGDClassifier                      0.62               0.62     0.62      0.63   \n",
      "PassiveAggressiveClassifier        0.50               0.60     0.60      0.49   \n",
      "DecisionTreeClassifier             0.58               0.59     0.59      0.59   \n",
      "AdaBoostClassifier                 0.62               0.58     0.58      0.63   \n",
      "BernoulliNB                        0.62               0.58     0.58      0.63   \n",
      "Perceptron                         0.54               0.56     0.56      0.56   \n",
      "NearestCentroid                    0.58               0.56     0.56      0.59   \n",
      "KNeighborsClassifier               0.58               0.56     0.56      0.59   \n",
      "LogisticRegression                 0.54               0.46     0.46      0.54   \n",
      "LinearDiscriminantAnalysis         0.54               0.46     0.46      0.54   \n",
      "RidgeClassifier                    0.54               0.46     0.46      0.54   \n",
      "RidgeClassifierCV                  0.54               0.46     0.46      0.54   \n",
      "CalibratedClassifierCV             0.54               0.46     0.46      0.54   \n",
      "LinearSVC                          0.54               0.46     0.46      0.54   \n",
      "QuadraticDiscriminantAnalysis      0.42               0.44     0.44      0.44   \n",
      "GaussianNB                         0.50               0.43     0.43      0.51   \n",
      "\n",
      "                               Time Taken  \n",
      "Model                                      \n",
      "LabelPropagation                     0.02  \n",
      "LabelSpreading                       0.02  \n",
      "ExtraTreesClassifier                 0.16  \n",
      "RandomForestClassifier               0.20  \n",
      "BaggingClassifier                    0.06  \n",
      "XGBClassifier                        0.08  \n",
      "DummyClassifier                      0.02  \n",
      "NuSVC                                0.02  \n",
      "LGBMClassifier                       0.06  \n",
      "SVC                                  0.02  \n",
      "ExtraTreeClassifier                  0.02  \n",
      "SGDClassifier                        0.02  \n",
      "PassiveAggressiveClassifier          0.02  \n",
      "DecisionTreeClassifier               0.03  \n",
      "AdaBoostClassifier                   0.17  \n",
      "BernoulliNB                          0.02  \n",
      "Perceptron                           0.02  \n",
      "NearestCentroid                      0.02  \n",
      "KNeighborsClassifier                 0.03  \n",
      "LogisticRegression                   0.02  \n",
      "LinearDiscriminantAnalysis           0.03  \n",
      "RidgeClassifier                      0.04  \n",
      "RidgeClassifierCV                    0.03  \n",
      "CalibratedClassifierCV               0.06  \n",
      "LinearSVC                            0.03  \n",
      "QuadraticDiscriminantAnalysis        0.02  \n",
      "GaussianNB                           0.02  \n"
     ]
    },
    {
     "name": "stderr",
     "output_type": "stream",
     "text": [
      "\n"
     ]
    }
   ],
   "source": [
    "# Create classifier model with default parameters\n",
    "clfs = LazyClassifier(verbose = 0, ignore_warnings = True, random_state = 1126)\n",
    "\n",
    "# Fit models to our train and test data\n",
    "models, predictions = clfs.fit(X_train, X_test, y_train, y_test)\n",
    "print(models)"
   ]
  },
  {
   "cell_type": "markdown",
   "id": "f66fbfd7-82b0-405d-9e8f-7cca7e3ac0e1",
   "metadata": {},
   "source": [
    "As we can see from the results above, multiple models could pass the threshold of 73% accuracy: \n",
    "\n",
    "- ExtraTreeClassifier\n",
    "- RandomForestClassifier\n",
    "\n",
    "All of them are tree based models. Next, I will run them myself to test results of lazypredict. In this part I will not try to tune hyperparameters, just run models on default settings:\n",
    "from sklearn.tree import ExtraTreeClassifierfrom sklearn.tree import ExtraTreeClassifier"
   ]
  },
  {
   "cell_type": "markdown",
   "id": "57b975e9-423f-4fea-859d-5ae1114e4bd1",
   "metadata": {},
   "source": [
    "### Extra Tree"
   ]
  },
  {
   "cell_type": "code",
   "execution_count": 9,
   "id": "b2645402-8fd6-4627-a6bd-f0e345111680",
   "metadata": {},
   "outputs": [
    {
     "name": "stdout",
     "output_type": "stream",
     "text": [
      "Accuracy score: 0.62\n",
      "\n",
      "Classification report:\n",
      "               precision    recall  f1-score   support\n",
      "\n",
      "           0       0.42      0.62      0.50         8\n",
      "           1       0.79      0.61      0.69        18\n",
      "\n",
      "    accuracy                           0.62        26\n",
      "   macro avg       0.60      0.62      0.59        26\n",
      "weighted avg       0.67      0.62      0.63        26\n",
      "\n"
     ]
    },
    {
     "data": {
      "image/png": "[encoded data removed]",
      "text/plain": [
       "<Figure size 432x288 with 1 Axes>"
      ]
     },
     "metadata": {
      "needs_background": "light"
     },
     "output_type": "display_data"
    }
   ],
   "source": [
    "# Create Extra Tree classifier with default parameters\n",
    "clf = ExtraTreeClassifier(random_state = 1126)\n",
    "\n",
    "# Fit model to the train set\n",
    "clf.fit(X_train, y_train)\n",
    "\n",
    "# Predict values from the test set\n",
    "y_pred = clf.predict(X_test)\n",
    "\n",
    "# Accuracy score and classification report of the model\n",
    "print('Accuracy score: {}\\n'.format(round(accuracy_score(y_test, y_pred),2)))\n",
    "print('Classification report:\\n',classification_report(y_test, y_pred))\n",
    "\n",
    "# Build ROC curve\n",
    "y_pred_prob = clf.predict_proba(X_test)[:,1]\n",
    "fpr, tpr, threshold = roc_curve(y_test, y_pred_prob)\n",
    "plt.plot(fpr, tpr, label = 'Extra Tree')\n",
    "plt.title('ROC Curve Extra Tree')\n",
    "plt.xlabel('False Positive Rate')\n",
    "plt.ylabel('True Positive Rate')\n",
    "plt.show()"
   ]
  },
  {
   "cell_type": "markdown",
   "id": "bdaaa7ba-42d5-4836-a6ec-07fb470f6ad6",
   "metadata": {},
   "source": [
    "Extra tree classifier performed worse than was predicted by lazypredict. It's accuracy score is 0.62 now. It might be due to the random state that I have selected. However,  performance of models should not depend on random states. So I will drop this model from consideration.\n",
    "\n",
    "Classificatin report is printed to measure the quality of predictions. Precision, recall and F1 scores are presented for both labels: happy and unhappy. One thing one can notice is that distribution of 0 and 1 in test set is not even. There are substantially more positive labels, 18 vs 8. Precision  for happy label is higher than for unhappy one. It means that model is better in predicting happy customers than unhappy ones.  \n",
    "\n",
    "Also ROC (ReceiverOperating Characteristic) curve was plotted to demonstrate diagnostic ability of the model with the discrimination threshold."
   ]
  },
  {
   "cell_type": "markdown",
   "id": "a5df915e-b964-4d3a-b91e-44da4b1e8ab6",
   "metadata": {},
   "source": [
    "### Random Forest"
   ]
  },
  {
   "cell_type": "code",
   "execution_count": 10,
   "id": "f7c5f967-73b7-4395-9e3d-91795a49e1ed",
   "metadata": {},
   "outputs": [
    {
     "name": "stdout",
     "output_type": "stream",
     "text": [
      "Accuracy score: 0.73\n",
      "\n",
      "Classification report:\n",
      "               precision    recall  f1-score   support\n",
      "\n",
      "           0       0.55      0.75      0.63         8\n",
      "           1       0.87      0.72      0.79        18\n",
      "\n",
      "    accuracy                           0.73        26\n",
      "   macro avg       0.71      0.74      0.71        26\n",
      "weighted avg       0.77      0.73      0.74        26\n",
      "\n"
     ]
    },
    {
     "data": {
      "image/png": "[encoded data removed]",
      "text/plain": [
       "<Figure size 432x288 with 1 Axes>"
      ]
     },
     "metadata": {
      "needs_background": "light"
     },
     "output_type": "display_data"
    }
   ],
   "source": [
    "# Create Random Forest classifier with default parameters\n",
    "clf = RandomForestClassifier(random_state = 1126)\n",
    "\n",
    "# Fit model to the train set\n",
    "clf.fit(X_train, y_train)\n",
    "\n",
    "# Predict values from the test set\n",
    "y_pred = clf.predict(X_test)\n",
    "\n",
    "# Accuracy score and classification report of the model\n",
    "print('Accuracy score: {}\\n'.format(round(accuracy_score(y_test, y_pred),2)))\n",
    "print('Classification report:\\n',classification_report(y_test, y_pred))\n",
    "\n",
    "# Build ROC curve\n",
    "y_pred_prob = clf.predict_proba(X_test)[:,1]\n",
    "fpr, tpr, threshold = roc_curve(y_test, y_pred_prob)\n",
    "plt.plot(fpr, tpr, label = 'Random Forest')\n",
    "plt.title('ROC Curve Random Forest')\n",
    "plt.xlabel('False Positive Rate')\n",
    "plt.ylabel('True Positive Rate')\n",
    "plt.show()\n"
   ]
  },
  {
   "cell_type": "markdown",
   "id": "9b3eecde-7e31-4c66-8a25-a130a2096484",
   "metadata": {},
   "source": [
    "Random fores classifier performed as was predicted by lazypredict. It's accuracy score is 0.73, so passes the threshold. Classificatin report is printed to measure the quality of predictions. Precision, recall and F1 scores are presented for both labels: happy and unhappy. One thing one can notice is that distribution of 0 and 1 in test set is not even. There are substantially more positive labels, 18 vs 8. Precision  for happy label is higher than for unhappy one, 0.87 vs 0.55. It means that model is better in predicting happy customers than unhappy ones.  \n",
    "\n",
    "Also ROC (ReceiverOperating Characteristic) curve was plotted to demonstrate diagnostic ability of the model with the discrimination thresholds. Situation here is better as curve is more skewed to the left top part of the chart.\n",
    "\n",
    "\n",
    "Next step will be tuning hyper parameters of the model to improve it's accuracy.\n"
   ]
  },
  {
   "cell_type": "code",
   "execution_count": 11,
   "id": "bd2dc808-e1f7-49db-879f-aef723b5de67",
   "metadata": {},
   "outputs": [
    {
     "name": "stdout",
     "output_type": "stream",
     "text": [
      "Fitting 3 folds for each of 16 candidates, totalling 48 fits\n"
     ]
    },
    {
     "name": "stderr",
     "output_type": "stream",
     "text": [
      "[Parallel(n_jobs=4)]: Using backend LokyBackend with 4 concurrent workers.\n",
      "[Parallel(n_jobs=4)]: Done  48 out of  48 | elapsed:   14.7s finished\n"
     ]
    },
    {
     "name": "stdout",
     "output_type": "stream",
     "text": [
      "{'max_depth': 6, 'max_features': 'log2', 'min_samples_leaf': 0.2, 'n_estimators': 300}\n",
      "0.6705288175876412\n",
      "RandomForestClassifier(max_depth=6, max_features='log2', min_samples_leaf=0.2,\n",
      "                       n_estimators=300)\n",
      "\n",
      "Accuracy score to test set: 0.62\n",
      "\n"
     ]
    }
   ],
   "source": [
    "# Create parameters list\n",
    "param_dist = {'n_estimators':[200,300], \n",
    "              'max_depth':[6,8], \n",
    "              'min_samples_leaf':[0.1,0.2], \n",
    "              'max_features':['log2','sqrt']}\n",
    "\n",
    "# Create Random Forest classifier for Grid Search and fit it to train set\n",
    "tree_clf = RandomForestClassifier()\n",
    "tree_cv = GridSearchCV(tree_clf, param_dist, cv = 3, verbose = 1, scoring = 'accuracy',n_jobs = 4)\n",
    "tree_cv.fit(X_train, y_train)\n",
    "\n",
    "# Print parameters of the model\n",
    "print(tree_cv.best_params_)\n",
    "print(tree_cv.best_score_)\n",
    "print(tree_cv.best_estimator_)\n",
    "\n",
    "# Print accuracy score of the model to test set\n",
    "y_pred = tree_cv.predict(X_test)\n",
    "print('\\nAccuracy score to test set: {}\\n'.format(round(accuracy_score(y_test, y_pred),2)))"
   ]
  },
  {
   "cell_type": "markdown",
   "id": "2d6a3e1e-6c4d-4acf-bfca-0fb5e4075087",
   "metadata": {},
   "source": [
    "Even tuning hyperparameters I could not reach default levels of accuracy for random forest classifier. Gridsearch found that best results are when model has following parameters: {'max_depth': 6, 'max_features': 'log2', 'min_samples_leaf': 0.2, 'n_estimators': 300}"
   ]
  },
  {
   "cell_type": "markdown",
   "id": "9fdfa84d-d27e-4b9f-9cb8-38ebecae3c3f",
   "metadata": {},
   "source": [
    "### Finding feature importances\n",
    "Next step is to find which features are most important in predicting customer's happiness. Feature importance parameter can show us the minimal set of attributes/features that would preserve the most information about the problem while increasing predictability of the data we have. Is there any question that we can remove in our next survey?"
   ]
  },
  {
   "cell_type": "code",
   "execution_count": 12,
   "id": "fcb26bc5-6584-45e4-8f7b-d603ef217f5e",
   "metadata": {},
   "outputs": [
    {
     "data": {
      "text/html": [
       "<div>\n",
       "<style scoped>\n",
       "    .dataframe tbody tr th:only-of-type {\n",
       "        vertical-align: middle;\n",
       "    }\n",
       "\n",
       "    .dataframe tbody tr th {\n",
       "        vertical-align: top;\n",
       "    }\n",
       "\n",
       "    .dataframe thead th {\n",
       "        text-align: right;\n",
       "    }\n",
       "</style>\n",
       "<table border=\"1\" class=\"dataframe\">\n",
       "  <thead>\n",
       "    <tr style=\"text-align: right;\">\n",
       "      <th></th>\n",
       "      <th>Feature Importance</th>\n",
       "    </tr>\n",
       "  </thead>\n",
       "  <tbody>\n",
       "    <tr>\n",
       "      <th>X1</th>\n",
       "      <td>0.19</td>\n",
       "    </tr>\n",
       "    <tr>\n",
       "      <th>X3</th>\n",
       "      <td>0.18</td>\n",
       "    </tr>\n",
       "    <tr>\n",
       "      <th>X2</th>\n",
       "      <td>0.18</td>\n",
       "    </tr>\n",
       "    <tr>\n",
       "      <th>X5</th>\n",
       "      <td>0.17</td>\n",
       "    </tr>\n",
       "    <tr>\n",
       "      <th>X4</th>\n",
       "      <td>0.16</td>\n",
       "    </tr>\n",
       "    <tr>\n",
       "      <th>X6</th>\n",
       "      <td>0.12</td>\n",
       "    </tr>\n",
       "  </tbody>\n",
       "</table>\n",
       "</div>"
      ],
      "text/plain": [
       "    Feature Importance\n",
       "X1                0.19\n",
       "X3                0.18\n",
       "X2                0.18\n",
       "X5                0.17\n",
       "X4                0.16\n",
       "X6                0.12"
      ]
     },
     "execution_count": 12,
     "metadata": {},
     "output_type": "execute_result"
    }
   ],
   "source": [
    "# Put feature importance data into dataframe for better looking chart\n",
    "fi_df = pd.DataFrame(clf.feature_importances_, index = X.columns, columns = ['Feature Importance']).sort_values(by = 'Feature Importance',ascending=False)\n",
    "fi_df"
   ]
  },
  {
   "cell_type": "markdown",
   "id": "d31a7044-e066-456a-9bb4-b829fd98d677",
   "metadata": {},
   "source": [
    "There is no feature that dominates others and has significantly higher importance. All of the features are very important, with difference in max and min values of 7%. Anyways importance of features are distributed in following order:\n",
    "- My order was delivered on time - 19%\n",
    "- I ordered everything I wanted to order - 18%\n",
    "- Contents of my order was as I expected - 18%\n",
    "- I am satisfied with my courier - 17%\n",
    "- I paid a good price for my order - 16%\n",
    "- The app makes ordering easy for me - 12%"
   ]
  },
  {
   "cell_type": "markdown",
   "id": "1e1e7cc6-5bec-4ea1-9966-b16c18abc0fe",
   "metadata": {},
   "source": [
    "# Conclusion\n",
    "\n",
    "I was given a subset of survey data of a select customer cohort. It consists of responses for different questions regarding the order, and have values from 1 to 5 where the smaller number indicates less and the higher number indicates more satisfaction with service. Also it has target attribute (Y) with values indicating 0 (unhappy) and 1 (happy) customers. My goal is to predict if a customer is happy or not based on the answers they give to questions asked.\n",
    "\n",
    "First, exploratory data analysis process was performed. It indicated that the dataset has no null values, and all the values in dataset is in proper range. Correlation heatmap indicated that there is no direct correlation in any of features. As there are no extreme values in dataset, it can be used in training model without additional cleaning.\n",
    "\n",
    "I used lazypredict package to pick classifiers, as it accelerates process. Results indicated that tree based models fit the best, and I performed further research to confirm findings of lazypredict. I ran some of the models given in result, to confirm it gives same accuracy as was indicated in lazypredict. Also hyperparameter tuning was performed using grid search.\n",
    "\n",
    "Results of it indicated that random forest is the best model in prediction of customer's happiness. However hyperparameters tuning was not successful, as it could not improve accuracy of the model. \n",
    "\n",
    "Afterwards, feature importance attribute of random forest classifier was extracted to identify the most important parameters. Results of this work indicated that there is not one feature that dominates and can predict customer's happiness by itself. It was a combination of all parameters, as all of them are high in importance ranging from 12% to 19%.\n"
   ]
  },
  {
   "cell_type": "code",
   "execution_count": null,
   "id": "58ca1ac2-ce5a-4695-affa-e6f81e559365",
   "metadata": {},
   "outputs": [],
   "source": []
  }
 ],
 "metadata": {
  "kernelspec": {
   "display_name": "Python 3 (ipykernel)",
   "language": "python",
   "name": "python3"
  },
  "language_info": {
   "codemirror_mode": {
    "name": "ipython",
    "version": 3
   },
   "file_extension": ".py",
   "mimetype": "text/x-python",
   "name": "python",
   "nbconvert_exporter": "python",
   "pygments_lexer": "ipython3",
   "version": "3.7.3"
  }
 },
 "nbformat": 4,
 "nbformat_minor": 5
}
